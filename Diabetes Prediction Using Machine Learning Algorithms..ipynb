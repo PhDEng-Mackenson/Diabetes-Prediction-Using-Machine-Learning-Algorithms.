{
 "cells": [
  {
   "cell_type": "code",
   "execution_count": 1,
   "id": "c04da2bc-fb20-4aa4-8e3a-c918e83158cc",
   "metadata": {},
   "outputs": [
    {
     "data": {
      "text/plain": [
       "(768, 9)"
      ]
     },
     "execution_count": 1,
     "metadata": {},
     "output_type": "execute_result"
    }
   ],
   "source": [
    "import numpy as np\n",
    "import matplotlib.pyplot as plt\n",
    "import pandas as pd\n",
    "import seaborn as sns\n",
    "#The data is loaded.(Pima Indians Diabetes Database)\n",
    "\n",
    "data=pd.read_csv(\"D:\\data para proyectos\\diabetes.csv\")\n",
    "data.shape\n"
   ]
  },
  {
   "cell_type": "code",
   "execution_count": 2,
   "id": "92dd610d-c658-470d-ad5f-9737dff7a9fe",
   "metadata": {},
   "outputs": [
    {
     "data": {
      "text/html": [
       "<div>\n",
       "<style scoped>\n",
       "    .dataframe tbody tr th:only-of-type {\n",
       "        vertical-align: middle;\n",
       "    }\n",
       "\n",
       "    .dataframe tbody tr th {\n",
       "        vertical-align: top;\n",
       "    }\n",
       "\n",
       "    .dataframe thead th {\n",
       "        text-align: right;\n",
       "    }\n",
       "</style>\n",
       "<table border=\"1\" class=\"dataframe\">\n",
       "  <thead>\n",
       "    <tr style=\"text-align: right;\">\n",
       "      <th></th>\n",
       "      <th>Pregnancies</th>\n",
       "      <th>Glucose</th>\n",
       "      <th>BloodPressure</th>\n",
       "      <th>SkinThickness</th>\n",
       "      <th>Insulin</th>\n",
       "      <th>BMI</th>\n",
       "      <th>DiabetesPedigreeFunction</th>\n",
       "      <th>Age</th>\n",
       "      <th>Outcome</th>\n",
       "    </tr>\n",
       "  </thead>\n",
       "  <tbody>\n",
       "    <tr>\n",
       "      <th>0</th>\n",
       "      <td>6</td>\n",
       "      <td>148</td>\n",
       "      <td>72</td>\n",
       "      <td>35</td>\n",
       "      <td>0</td>\n",
       "      <td>33.6</td>\n",
       "      <td>0.627</td>\n",
       "      <td>50</td>\n",
       "      <td>1</td>\n",
       "    </tr>\n",
       "    <tr>\n",
       "      <th>1</th>\n",
       "      <td>1</td>\n",
       "      <td>85</td>\n",
       "      <td>66</td>\n",
       "      <td>29</td>\n",
       "      <td>0</td>\n",
       "      <td>26.6</td>\n",
       "      <td>0.351</td>\n",
       "      <td>31</td>\n",
       "      <td>0</td>\n",
       "    </tr>\n",
       "    <tr>\n",
       "      <th>2</th>\n",
       "      <td>8</td>\n",
       "      <td>183</td>\n",
       "      <td>64</td>\n",
       "      <td>0</td>\n",
       "      <td>0</td>\n",
       "      <td>23.3</td>\n",
       "      <td>0.672</td>\n",
       "      <td>32</td>\n",
       "      <td>1</td>\n",
       "    </tr>\n",
       "  </tbody>\n",
       "</table>\n",
       "</div>"
      ],
      "text/plain": [
       "   Pregnancies  Glucose  BloodPressure  SkinThickness  Insulin   BMI  \\\n",
       "0            6      148             72             35        0  33.6   \n",
       "1            1       85             66             29        0  26.6   \n",
       "2            8      183             64              0        0  23.3   \n",
       "\n",
       "   DiabetesPedigreeFunction  Age  Outcome  \n",
       "0                     0.627   50        1  \n",
       "1                     0.351   31        0  \n",
       "2                     0.672   32        1  "
      ]
     },
     "execution_count": 2,
     "metadata": {},
     "output_type": "execute_result"
    }
   ],
   "source": [
    "data.head(3)"
   ]
  },
  {
   "cell_type": "code",
   "execution_count": 3,
   "id": "00290d24-bd66-4935-a5e9-b1e3e41591ee",
   "metadata": {},
   "outputs": [
    {
     "name": "stdout",
     "output_type": "stream",
     "text": [
      "<class 'pandas.core.frame.DataFrame'>\n",
      "RangeIndex: 768 entries, 0 to 767\n",
      "Data columns (total 9 columns):\n",
      " #   Column                    Non-Null Count  Dtype  \n",
      "---  ------                    --------------  -----  \n",
      " 0   Pregnancies               768 non-null    int64  \n",
      " 1   Glucose                   768 non-null    int64  \n",
      " 2   BloodPressure             768 non-null    int64  \n",
      " 3   SkinThickness             768 non-null    int64  \n",
      " 4   Insulin                   768 non-null    int64  \n",
      " 5   BMI                       768 non-null    float64\n",
      " 6   DiabetesPedigreeFunction  768 non-null    float64\n",
      " 7   Age                       768 non-null    int64  \n",
      " 8   Outcome                   768 non-null    int64  \n",
      "dtypes: float64(2), int64(7)\n",
      "memory usage: 54.1 KB\n"
     ]
    }
   ],
   "source": [
    "data.info()"
   ]
  },
  {
   "cell_type": "code",
   "execution_count": 4,
   "id": "3139f7d4-dd34-4c02-a6a9-09b4952b6c9c",
   "metadata": {},
   "outputs": [
    {
     "name": "stdout",
     "output_type": "stream",
     "text": [
      "[]\n"
     ]
    }
   ],
   "source": [
    "#Selecting the Object type columns (Regularly Dates and Texts)\n",
    "categorical_features = list(data.select_dtypes(include='object').columns)\n",
    "print(categorical_features)"
   ]
  },
  {
   "cell_type": "code",
   "execution_count": 5,
   "id": "792589be-8434-4b85-bb62-8b30cc326009",
   "metadata": {},
   "outputs": [
    {
     "name": "stdout",
     "output_type": "stream",
     "text": [
      "['Pregnancies', 'Glucose', 'BloodPressure', 'SkinThickness', 'Insulin', 'BMI', 'DiabetesPedigreeFunction', 'Age', 'Outcome']\n"
     ]
    }
   ],
   "source": [
    "# We obtain the numerical variables but by negation (those that are not objects)\n",
    "numerical_features = list(data.select_dtypes(exclude='object').columns)\n",
    "print(numerical_features)"
   ]
  },
  {
   "cell_type": "code",
   "execution_count": 6,
   "id": "5ac2b63d-617e-4a41-bab7-43a35427dacb",
   "metadata": {},
   "outputs": [
    {
     "data": {
      "text/plain": [
       "Series([], dtype: bool)"
      ]
     },
     "execution_count": 6,
     "metadata": {},
     "output_type": "execute_result"
    }
   ],
   "source": [
    "#we observe null values of categorical variables\n",
    "data[categorical_features].isnull().any()"
   ]
  },
  {
   "cell_type": "code",
   "execution_count": 7,
   "id": "68a9c5f4-86f1-4271-9b59-844392427b70",
   "metadata": {},
   "outputs": [
    {
     "data": {
      "text/plain": [
       "Index([], dtype='object')"
      ]
     },
     "execution_count": 7,
     "metadata": {},
     "output_type": "execute_result"
    }
   ],
   "source": [
    "# the categories which have nulls (we get date and location \"Does not have nulls\")\n",
    "categorical=data[categorical_features].columns[2:]\n",
    "categorical"
   ]
  },
  {
   "cell_type": "code",
   "execution_count": 8,
   "id": "b9db14da-8032-4ad9-bab4-1dc7e0a1e19d",
   "metadata": {},
   "outputs": [
    {
     "data": {
      "text/plain": [
       "Series([], dtype: bool)"
      ]
     },
     "execution_count": 8,
     "metadata": {},
     "output_type": "execute_result"
    }
   ],
   "source": [
    "# We substitute for categorical variables with the first value of all\n",
    "for i in categorical:\n",
    "    data[i].fillna(data[i].value_counts().index[0],inplace=True)\n",
    "    #validating that the substitution of the values ​​is done.\n",
    "data[categorical_features].isnull().any()"
   ]
  },
  {
   "cell_type": "code",
   "execution_count": 9,
   "id": "1758a20c-470a-486e-9e58-0c6a0b1ffd34",
   "metadata": {},
   "outputs": [
    {
     "data": {
      "text/plain": [
       "Pregnancies                 False\n",
       "Glucose                     False\n",
       "BloodPressure               False\n",
       "SkinThickness               False\n",
       "Insulin                     False\n",
       "BMI                         False\n",
       "DiabetesPedigreeFunction    False\n",
       "Age                         False\n",
       "Outcome                     False\n",
       "dtype: bool"
      ]
     },
     "execution_count": 9,
     "metadata": {},
     "output_type": "execute_result"
    }
   ],
   "source": [
    "# We fill the empty values with the mean\n",
    "for i in numerical_features:\n",
    "    data[i]=data[i].fillna(data[i].mean())\n",
    "# Validating \n",
    "data[numerical_features].isnull().any()"
   ]
  },
  {
   "cell_type": "code",
   "execution_count": 10,
   "id": "d250b3fd-09a5-4e56-a872-981e019fc2be",
   "metadata": {},
   "outputs": [
    {
     "data": {
      "text/plain": [
       "Pregnancies                 False\n",
       "Glucose                     False\n",
       "BloodPressure               False\n",
       "SkinThickness               False\n",
       "Insulin                     False\n",
       "BMI                         False\n",
       "DiabetesPedigreeFunction    False\n",
       "Age                         False\n",
       "Outcome                     False\n",
       "dtype: bool"
      ]
     },
     "execution_count": 10,
     "metadata": {},
     "output_type": "execute_result"
    }
   ],
   "source": [
    "# Validation if any null value exists in the df\n",
    "data.isnull().any()"
   ]
  },
  {
   "cell_type": "code",
   "execution_count": 11,
   "id": "e501c456-9ce2-4be4-81d3-b62051db6a2f",
   "metadata": {},
   "outputs": [
    {
     "name": "stdout",
     "output_type": "stream",
     "text": [
      "<class 'pandas.core.frame.DataFrame'>\n",
      "RangeIndex: 768 entries, 0 to 767\n",
      "Data columns (total 9 columns):\n",
      " #   Column                    Non-Null Count  Dtype  \n",
      "---  ------                    --------------  -----  \n",
      " 0   Pregnancies               768 non-null    int64  \n",
      " 1   Glucose                   768 non-null    int64  \n",
      " 2   BloodPressure             768 non-null    int64  \n",
      " 3   SkinThickness             768 non-null    int64  \n",
      " 4   Insulin                   768 non-null    int64  \n",
      " 5   BMI                       768 non-null    float64\n",
      " 6   DiabetesPedigreeFunction  768 non-null    float64\n",
      " 7   Age                       768 non-null    int64  \n",
      " 8   Outcome                   768 non-null    int64  \n",
      "dtypes: float64(2), int64(7)\n",
      "memory usage: 54.1 KB\n"
     ]
    }
   ],
   "source": [
    "# We get the time values\n",
    "data.info()"
   ]
  },
  {
   "cell_type": "code",
   "execution_count": 12,
   "id": "66534090-d2f9-4b06-9fc9-ccac5e8d4a9c",
   "metadata": {},
   "outputs": [
    {
     "data": {
      "text/plain": [
       "<AxesSubplot:>"
      ]
     },
     "execution_count": 12,
     "metadata": {},
     "output_type": "execute_result"
    },
    {
     "data": {
      "image/png": "[encoded data removed]",
      "text/plain": [
       "<Figure size 432x288 with 1 Axes>"
      ]
     },
     "metadata": {
      "needs_background": "light"
     },
     "output_type": "display_data"
    }
   ],
   "source": [
    "# We analyze atypical data\n",
    "data.boxplot(rot=90)"
   ]
  },
  {
   "cell_type": "code",
   "execution_count": 13,
   "id": "8294ff39-ff92-459a-b565-a26f5f0e2f61",
   "metadata": {},
   "outputs": [],
   "source": [
    "#We separate into variables (X= all except if it is going to rain today) and objective (Y= it is going to rain or not)\n",
    "x = data.drop(['Outcome'],axis=1).values # .values convierte en  Objeto de numpy\n",
    "y = data['Outcome'].values"
   ]
  },
  {
   "cell_type": "code",
   "execution_count": 14,
   "id": "23b48524-03e8-4841-b97d-66224f2da8bf",
   "metadata": {},
   "outputs": [],
   "source": [
    " # We separate into Test and training\n",
    "from sklearn.model_selection import train_test_split\n",
    "x_train,x_test,y_train,y_test = train_test_split(x,y,test_size=0.30,random_state=100) "
   ]
  },
  {
   "cell_type": "code",
   "execution_count": 15,
   "id": "ddb4ab30-017a-4b13-8855-d70ac4a020ac",
   "metadata": {},
   "outputs": [],
   "source": [
    "# We scale the 2 sets of variables \n",
    "from sklearn.preprocessing import StandardScaler\n",
    "scaler = StandardScaler()\n",
    "x_train = scaler.fit_transform(x_train)\n",
    "x_test = scaler.transform(x_test)"
   ]
  },
  {
   "cell_type": "code",
   "execution_count": 16,
   "id": "0e4f6623-c634-48bc-9f6e-dce24798bb48",
   "metadata": {},
   "outputs": [
    {
     "name": "stdout",
     "output_type": "stream",
     "text": [
      " 1) Glucose                        0.271583\n",
      " 2) BMI                            0.157351\n",
      " 3) Age                            0.140097\n",
      " 4) DiabetesPedigreeFunction       0.125294\n",
      " 5) Pregnancies                    0.085153\n",
      " 6) BloodPressure                  0.085083\n",
      " 7) SkinThickness                  0.070096\n",
      " 8) Insulin                        0.065344\n"
     ]
    },
    {
     "data": {
      "image/png": "[encoded data removed]",
      "text/plain": [
       "<Figure size 576x576 with 1 Axes>"
      ]
     },
     "metadata": {
      "needs_background": "light"
     },
     "output_type": "display_data"
    }
   ],
   "source": [
    "# Let's see how much each variable contributes to the model\n",
    "from sklearn.ensemble import RandomForestClassifier\n",
    "\n",
    "feat_labels = data.columns[:-1]\n",
    "\n",
    "forest = RandomForestClassifier(n_estimators=500,\n",
    "                                random_state=1,n_jobs=-1)\n",
    "\n",
    "forest.fit(x_train, y_train)\n",
    "importances = forest.feature_importances_\n",
    "\n",
    "indices = np.argsort(importances)[::-1]\n",
    "\n",
    "for f in range(x_train.shape[1]):\n",
    "    print(\"%2d) %-*s %f\" % (f + 1, 30, \n",
    "                            feat_labels[indices[f]], \n",
    "                            importances[indices[f]]))\n",
    "\n",
    "plt.figure(figsize = (8, 8))    \n",
    "plt.title('Feature Importance')\n",
    "plt.bar(range(x_train.shape[1]), \n",
    "        importances[indices],\n",
    "        align='center')\n",
    "\n",
    "plt.xticks(range(x_train.shape[1]), \n",
    "           feat_labels[indices], rotation=90)\n",
    "plt.xlim([-1, x_train.shape[1]])\n",
    "plt.tight_layout()\n",
    "#plt.savefig('images/04_09.png', dpi=300)\n",
    "plt.show()"
   ]
  },
  {
   "cell_type": "code",
   "execution_count": 17,
   "id": "c726ff04-c58d-40eb-b616-6a2b847f934d",
   "metadata": {},
   "outputs": [],
   "source": [
    "from sklearn.neighbors import KNeighborsClassifier\n",
    "classifier = KNeighborsClassifier(n_neighbors = 5, \n",
    "                                  metric = \"minkowski\",#generalization of distances (euclideas and manhathan) \n",
    "                                  p = 2)\n",
    "classifier.fit(x_train, y_train)\n",
    "# Predicting results with the Testing Set\n",
    "y_pred  = classifier.predict(x_test)"
   ]
  },
  {
   "cell_type": "code",
   "execution_count": 18,
   "id": "40bc5f99-415c-46b6-90cc-18aa3f767d9e",
   "metadata": {},
   "outputs": [
    {
     "name": "stdout",
     "output_type": "stream",
     "text": [
      "70.995670995671 %\n",
      "__________________\n",
      "matriz de confusión \n",
      " [[121  29]\n",
      " [ 38  43]]\n",
      "__________________\n",
      "Exactitud de calsificación : 0.70995670995671\n",
      "Error de clasificación : 0.29004329004329005\n",
      "Recall : 0.7610062893081762\n",
      "__________________\n",
      "Reporte de clasificación \n",
      "               precision    recall  f1-score   support\n",
      "\n",
      "           0       0.76      0.81      0.78       150\n",
      "           1       0.60      0.53      0.56        81\n",
      "\n",
      "    accuracy                           0.71       231\n",
      "   macro avg       0.68      0.67      0.67       231\n",
      "weighted avg       0.70      0.71      0.71       231\n",
      "\n"
     ]
    }
   ],
   "source": [
    "# DF accuracy With this model and (all variables)\n",
    "from sklearn.metrics import accuracy_score\n",
    "print(accuracy_score(y_test, y_pred)*100,\"%\")\n",
    "print(\"__________________\")\n",
    "\n",
    "from sklearn.metrics import confusion_matrix\n",
    "cm = confusion_matrix(y_test, y_pred)\n",
    "print(\"matriz de confusión \\n\",cm)\n",
    "print(\"__________________\")\n",
    "\n",
    "# Valores\n",
    "TP = cm[0,0]# True Positive\n",
    "TN = cm[1,1]# True Negative\n",
    "FP = cm[0,1]# False Positive \n",
    "FN = cm[1,0]# False Negative \n",
    "\n",
    "classification_accuracy = (TP + TN) / float(TP + TN + FP + FN)\n",
    "print(\"Exactitud de calsificación :\",classification_accuracy)\n",
    "classification_error = (FP + FN) / float(TP + TN + FP + FN)\n",
    "print(\"Error de clasificación :\",classification_error)\n",
    "recall = TP / float(TP + FN)\n",
    "print(\"Recall :\",recall)\n",
    "print(\"__________________\")\n",
    "\n",
    "from sklearn.metrics import classification_report\n",
    "print(\"Reporte de clasificación \\n\",classification_report(y_test, y_pred))"
   ]
  },
  {
   "cell_type": "code",
   "execution_count": 19,
   "id": "ddf20b60-8821-4816-b3fc-3b5b5b9b97fe",
   "metadata": {},
   "outputs": [
    {
     "data": {
      "image/png": "[encoded data removed]",
      "text/plain": [
       "<Figure size 432x288 with 1 Axes>"
      ]
     },
     "metadata": {
      "needs_background": "light"
     },
     "output_type": "display_data"
    },
    {
     "name": "stdout",
     "output_type": "stream",
     "text": [
      "AUC 0.7078600823045267\n"
     ]
    }
   ],
   "source": [
    "#ROC curve (KNN)\n",
    "from sklearn.metrics import roc_curve, roc_auc_score\n",
    "\n",
    "y_pred_prob = classifier.predict_proba(x_test)[:,1]\n",
    "\n",
    "fpr, tpr, threshholds = roc_curve(y_test,y_pred_prob)\n",
    "\n",
    "plt.plot(fpr,tpr,'b', label='KNN')\n",
    "plt.plot([0,1],[0,1],'r--')\n",
    "plt.xlabel('False positive rate')\n",
    "plt.ylabel('True positive rate')\n",
    "plt.title('KNN')\n",
    "plt.show()\n",
    "\n",
    "print('AUC', roc_auc_score(y_test,y_pred_prob))"
   ]
  },
  {
   "cell_type": "code",
   "execution_count": 20,
   "id": "23c41344-c378-4337-9828-a964f387fcf0",
   "metadata": {},
   "outputs": [],
   "source": [
    "# Adjust the classifier in the Training Set\n",
    "from sklearn.svm import SVC\n",
    "classifier = SVC(kernel = \"rbf\",probability=True, random_state = 0)\n",
    "classifier.fit(x_train, y_train)\n",
    "\n",
    "# Predicting results with the Testing Set\n",
    "y_pred  = classifier.predict(x_test)"
   ]
  },
  {
   "cell_type": "code",
   "execution_count": 21,
   "id": "f4a729a5-62c0-458d-9b27-a5c9c31e7e71",
   "metadata": {},
   "outputs": [
    {
     "name": "stdout",
     "output_type": "stream",
     "text": [
      "74.02597402597402 %\n",
      "__________________\n",
      "matriz de confusión \n",
      " [[124  26]\n",
      " [ 34  47]]\n",
      "__________________\n",
      "Exactitud de calsificación : 0.7402597402597403\n",
      "Error de clasificación : 0.2597402597402597\n",
      "Recall : 0.7848101265822784\n",
      "__________________\n",
      "Reporte de clasificación \n",
      "               precision    recall  f1-score   support\n",
      "\n",
      "           0       0.78      0.83      0.81       150\n",
      "           1       0.64      0.58      0.61        81\n",
      "\n",
      "    accuracy                           0.74       231\n",
      "   macro avg       0.71      0.70      0.71       231\n",
      "weighted avg       0.74      0.74      0.74       231\n",
      "\n"
     ]
    }
   ],
   "source": [
    "# DF accuracy With this model and (all variables)\n",
    "from sklearn.metrics import accuracy_score\n",
    "print(accuracy_score(y_test, y_pred)*100,\"%\")\n",
    "print(\"__________________\")\n",
    "\n",
    "from sklearn.metrics import confusion_matrix\n",
    "cm = confusion_matrix(y_test, y_pred)\n",
    "print(\"matriz de confusión \\n\",cm)\n",
    "print(\"__________________\")\n",
    "\n",
    "# Valores\n",
    "TP = cm[0,0]# True Positive\n",
    "TN = cm[1,1]# True Negative\n",
    "FP = cm[0,1]# False Positive \n",
    "FN = cm[1,0]# False Negative \n",
    "\n",
    "classification_accuracy = (TP + TN) / float(TP + TN + FP + FN)\n",
    "print(\"Exactitud de calsificación :\",classification_accuracy)\n",
    "classification_error = (FP + FN) / float(TP + TN + FP + FN)\n",
    "print(\"Error de clasificación :\",classification_error)\n",
    "recall = TP / float(TP + FN)\n",
    "print(\"Recall :\",recall)\n",
    "print(\"__________________\")\n",
    "\n",
    "from sklearn.metrics import classification_report\n",
    "print(\"Reporte de clasificación \\n\",classification_report(y_test, y_pred))"
   ]
  },
  {
   "cell_type": "code",
   "execution_count": 22,
   "id": "7ea1db6c-86bc-41e5-a641-1067199961b2",
   "metadata": {},
   "outputs": [
    {
     "data": {
      "image/png": "[encoded data removed]",
      "text/plain": [
       "<Figure size 432x288 with 1 Axes>"
      ]
     },
     "metadata": {
      "needs_background": "light"
     },
     "output_type": "display_data"
    },
    {
     "name": "stdout",
     "output_type": "stream",
     "text": [
      "AUC 0.7777777777777778\n"
     ]
    }
   ],
   "source": [
    "# ROC curve (SVM)\n",
    "from sklearn.metrics import roc_curve, roc_auc_score\n",
    "\n",
    "y_pred_prob = classifier.predict_proba(x_test)[:,1]\n",
    "\n",
    "fpr, tpr, threshholds = roc_curve(y_test,y_pred_prob)\n",
    "\n",
    "plt.plot(fpr,tpr,'b', label='SVM')\n",
    "plt.plot([0,1],[0,1],'r--')\n",
    "plt.xlabel('False positive rate')\n",
    "plt.ylabel('True positive rate')\n",
    "plt.title('Maquina de soporte vectorial')\n",
    "plt.show()\n",
    "\n",
    "print('AUC', roc_auc_score(y_test,y_pred_prob))"
   ]
  },
  {
   "cell_type": "code",
   "execution_count": 23,
   "id": "32bba88d-19fe-4575-95ff-1dbbee03cd57",
   "metadata": {},
   "outputs": [],
   "source": [
    "# Adjust the Decision Tree classifier in the Training Set\n",
    "from sklearn.tree import DecisionTreeClassifier\n",
    "classifier = DecisionTreeClassifier(criterion = \"entropy\", random_state = 0)\n",
    "classifier.fit(x_train, y_train)\n",
    "# We predict \n",
    "y_pred  = classifier.predict(x_test)"
   ]
  },
  {
   "cell_type": "code",
   "execution_count": 24,
   "id": "8a534b5a-571d-452c-ba6c-3993a17c7494",
   "metadata": {},
   "outputs": [
    {
     "name": "stdout",
     "output_type": "stream",
     "text": [
      "68.83116883116884 %\n",
      "__________________\n",
      "matriz de confusión \n",
      " [[112  38]\n",
      " [ 34  47]]\n",
      "__________________\n",
      "Exactitud de calsificación : 0.6883116883116883\n",
      "Error de clasificación : 0.3116883116883117\n",
      "Recall : 0.7671232876712328\n",
      "__________________\n",
      "Reporte de clasificación \n",
      "               precision    recall  f1-score   support\n",
      "\n",
      "           0       0.77      0.75      0.76       150\n",
      "           1       0.55      0.58      0.57        81\n",
      "\n",
      "    accuracy                           0.69       231\n",
      "   macro avg       0.66      0.66      0.66       231\n",
      "weighted avg       0.69      0.69      0.69       231\n",
      "\n"
     ]
    }
   ],
   "source": [
    "# DF accuracy With this model and (all variables)\n",
    "from sklearn.metrics import accuracy_score\n",
    "print(accuracy_score(y_test, y_pred)*100,\"%\")\n",
    "print(\"__________________\")\n",
    "\n",
    "from sklearn.metrics import confusion_matrix\n",
    "cm = confusion_matrix(y_test, y_pred)\n",
    "print(\"matriz de confusión \\n\",cm)\n",
    "print(\"__________________\")\n",
    "\n",
    "# Valores\n",
    "TP = cm[0,0]# True Positive\n",
    "TN = cm[1,1]# True Negative\n",
    "FP = cm[0,1]# False Positive \n",
    "FN = cm[1,0]# False Negative \n",
    "\n",
    "classification_accuracy = (TP + TN) / float(TP + TN + FP + FN)\n",
    "print(\"Exactitud de calsificación :\",classification_accuracy)\n",
    "classification_error = (FP + FN) / float(TP + TN + FP + FN)\n",
    "print(\"Error de clasificación :\",classification_error)\n",
    "recall = TP / float(TP + FN)# Recordar\n",
    "print(\"Recall :\",recall)\n",
    "print(\"__________________\")\n",
    "\n",
    "from sklearn.metrics import classification_report\n",
    "print(\"Reporte de clasificación \\n\",classification_report(y_test, y_pred))"
   ]
  },
  {
   "cell_type": "code",
   "execution_count": 25,
   "id": "13edebe0-c721-440f-9ba3-51e027d26918",
   "metadata": {},
   "outputs": [
    {
     "data": {
      "image/png": "[encoded data removed]",
      "text/plain": [
       "<Figure size 432x288 with 1 Axes>"
      ]
     },
     "metadata": {
      "needs_background": "light"
     },
     "output_type": "display_data"
    },
    {
     "name": "stdout",
     "output_type": "stream",
     "text": [
      "AUC 0.6634567901234567\n"
     ]
    }
   ],
   "source": [
    "# ROC curve (Decision tree)\n",
    "from sklearn.metrics import roc_curve, roc_auc_score\n",
    "\n",
    "y_pred_prob = classifier.predict_proba(x_test)[:,1]\n",
    "\n",
    "fpr, tpr, threshholds = roc_curve(y_test,y_pred_prob)\n",
    "\n",
    "plt.plot(fpr,tpr,'b', label='Arbol de desición')\n",
    "plt.plot([0,1],[0,1],'r--')\n",
    "plt.xlabel('False positive rate')\n",
    "plt.ylabel('True positive rate')\n",
    "plt.title('Arbol de decisión')\n",
    "plt.show()\n",
    "\n",
    "print('AUC', roc_auc_score(y_test,y_pred_prob))"
   ]
  },
  {
   "cell_type": "code",
   "execution_count": 26,
   "id": "8808fdd1-2baa-48e2-9179-745217a1957a",
   "metadata": {},
   "outputs": [],
   "source": [
    "# Adjust the Random Forest classifier on the Training Set\n",
    "from sklearn.ensemble import RandomForestClassifier\n",
    "classifier = RandomForestClassifier(n_estimators = 500, criterion = \"entropy\", random_state = 0)\n",
    "classifier.fit(x_train, y_train)\n",
    "\n",
    "# Predicting results with the Testing Set\n",
    "y_pred  = classifier.predict(x_test)"
   ]
  },
  {
   "cell_type": "code",
   "execution_count": 27,
   "id": "d3de21b1-7a34-45d4-9147-24c375eeec07",
   "metadata": {},
   "outputs": [
    {
     "name": "stdout",
     "output_type": "stream",
     "text": [
      "72.72727272727273 %\n",
      "__________________\n",
      "matriz de confusión \n",
      " [[124  26]\n",
      " [ 37  44]]\n",
      "__________________\n",
      "Exactitud de calsificación : 0.7272727272727273\n",
      "Error de clasificación : 0.2727272727272727\n",
      "Recall : 0.7701863354037267\n",
      "__________________\n",
      "Reporte de clasificación \n",
      "               precision    recall  f1-score   support\n",
      "\n",
      "           0       0.77      0.83      0.80       150\n",
      "           1       0.63      0.54      0.58        81\n",
      "\n",
      "    accuracy                           0.73       231\n",
      "   macro avg       0.70      0.68      0.69       231\n",
      "weighted avg       0.72      0.73      0.72       231\n",
      "\n"
     ]
    }
   ],
   "source": [
    "# DF accuracy With this model and (all variables)\n",
    "from sklearn.metrics import accuracy_score\n",
    "print(accuracy_score(y_test, y_pred)*100,\"%\")\n",
    "print(\"__________________\")\n",
    "\n",
    "from sklearn.metrics import confusion_matrix\n",
    "cm = confusion_matrix(y_test, y_pred)\n",
    "print(\"matriz de confusión \\n\",cm)\n",
    "print(\"__________________\")\n",
    "\n",
    "TP = cm[0,0]# True Positive\n",
    "TN = cm[1,1]# True Negative\n",
    "FP = cm[0,1]# False Positive \n",
    "FN = cm[1,0]# False Negative \n",
    "\n",
    "classification_accuracy = (TP + TN) / float(TP + TN + FP + FN)\n",
    "print(\"Exactitud de calsificación :\",classification_accuracy)\n",
    "classification_error = (FP + FN) / float(TP + TN + FP + FN)\n",
    "print(\"Error de clasificación :\",classification_error)\n",
    "recall = TP / float(TP + FN)\n",
    "print(\"Recall :\",recall)\n",
    "print(\"__________________\")\n",
    "\n",
    "from sklearn.metrics import classification_report\n",
    "print(\"Reporte de clasificación \\n\",classification_report(y_test, y_pred))"
   ]
  },
  {
   "cell_type": "code",
   "execution_count": 28,
   "id": "6c1bbfca-4ec5-4a3d-b9d9-5f414a669de7",
   "metadata": {},
   "outputs": [
    {
     "data": {
      "image/png": "[encoded data removed]",
      "text/plain": [
       "<Figure size 432x288 with 1 Axes>"
      ]
     },
     "metadata": {
      "needs_background": "light"
     },
     "output_type": "display_data"
    },
    {
     "name": "stdout",
     "output_type": "stream",
     "text": [
      "AUC 0.7795061728395061\n"
     ]
    }
   ],
   "source": [
    "# ROC curve (SVM)\n",
    "from sklearn.metrics import roc_curve, roc_auc_score\n",
    "\n",
    "y_pred_prob = classifier.predict_proba(x_test)[:,1]\n",
    "\n",
    "fpr, tpr, threshholds = roc_curve(y_test,y_pred_prob)\n",
    "\n",
    "plt.plot(fpr,tpr,'b', label='Random Forest')\n",
    "plt.plot([0,1],[0,1],'r--')\n",
    "plt.xlabel('False positive rate')\n",
    "plt.ylabel('True positive rate')\n",
    "plt.title('Random Forest')\n",
    "plt.show()\n",
    "\n",
    "print('AUC', roc_auc_score(y_test,y_pred_prob))"
   ]
  },
  {
   "cell_type": "code",
   "execution_count": 29,
   "id": "65dfb2fc-8d68-4218-ad11-d557da2bbba0",
   "metadata": {},
   "outputs": [],
   "source": [
    "# Fit the XGBoost model to the Training Set\n",
    "from xgboost import XGBClassifier\n",
    "classifier = XGBClassifier()\n",
    "classifier.fit(x_train, y_train)\n",
    "\n",
    "# Predicting results with the Testing Set\n",
    "y_pred  = classifier.predict(x_test)"
   ]
  },
  {
   "cell_type": "code",
   "execution_count": 30,
   "id": "84043fd1-0eb9-4759-ba28-cc347a9f682a",
   "metadata": {},
   "outputs": [
    {
     "name": "stdout",
     "output_type": "stream",
     "text": [
      "71.86147186147186 %\n",
      "__________________\n",
      "matriz de confusión \n",
      " [[119  31]\n",
      " [ 34  47]]\n",
      "__________________\n",
      "Exactitud de calsificación : 0.7186147186147186\n",
      "Error de clasificación : 0.2813852813852814\n",
      "Recall : 0.7777777777777778\n",
      "__________________\n",
      "Reporte de clasificación \n",
      "               precision    recall  f1-score   support\n",
      "\n",
      "           0       0.78      0.79      0.79       150\n",
      "           1       0.60      0.58      0.59        81\n",
      "\n",
      "    accuracy                           0.72       231\n",
      "   macro avg       0.69      0.69      0.69       231\n",
      "weighted avg       0.72      0.72      0.72       231\n",
      "\n"
     ]
    }
   ],
   "source": [
    "# DF accuracy With this model and (all variables)\n",
    "from sklearn.metrics import accuracy_score\n",
    "print(accuracy_score(y_test, y_pred)*100,\"%\")\n",
    "print(\"__________________\")\n",
    "\n",
    "from sklearn.metrics import confusion_matrix\n",
    "cm = confusion_matrix(y_test, y_pred)\n",
    "print(\"matriz de confusión \\n\",cm)\n",
    "print(\"__________________\")\n",
    "\n",
    "TP = cm[0,0]# True Positive\n",
    "TN = cm[1,1]# True Negative\n",
    "FP = cm[0,1]# False Positive \n",
    "FN = cm[1,0]# False Negative \n",
    "\n",
    "classification_accuracy = (TP + TN) / float(TP + TN + FP + FN)\n",
    "print(\"Exactitud de calsificación :\",classification_accuracy)\n",
    "classification_error = (FP + FN) / float(TP + TN + FP + FN)\n",
    "print(\"Error de clasificación :\",classification_error)\n",
    "recall = TP / float(TP + FN)# Recordar\n",
    "print(\"Recall :\",recall)\n",
    "print(\"__________________\")\n",
    "\n",
    "from sklearn.metrics import classification_report\n",
    "print(\"Reporte de clasificación \\n\",classification_report(y_test, y_pred))"
   ]
  },
  {
   "cell_type": "code",
   "execution_count": 35,
   "id": "0e70c4d2-26a5-4b60-8151-d0bcb124e538",
   "metadata": {},
   "outputs": [
    {
     "data": {
      "image/png": "[encoded data removed]",
      "text/plain": [
       "<Figure size 432x108 with 1 Axes>"
      ]
     },
     "metadata": {
      "needs_background": "light"
     },
     "output_type": "display_data"
    },
    {
     "name": "stdout",
     "output_type": "stream",
     "text": [
      "AUC 0.7702057613168724\n"
     ]
    }
   ],
   "source": [
    "# ROC curve (XGBOOST)\n",
    "from sklearn.metrics import roc_curve, roc_auc_score\n",
    "\n",
    "y_pred_prob = classifier.predict_proba(x_test)[:,1]\n",
    "\n",
    "fpr, tpr, threshholds = roc_curve(y_test,y_pred_prob)\n",
    "plt.figure().set_figheight(1.5)\n",
    "plt.plot(fpr,tpr,'b', label='Xbost')\n",
    "plt.plot([0,1],[0,1],'r--')\n",
    "plt.xlabel('False positive rate')\n",
    "plt.ylabel('True positive rate')\n",
    "plt.title('XGBOOST')\n",
    "plt.show()\n",
    "\n",
    "print('AUC', roc_auc_score(y_test,y_pred_prob))"
   ]
  },
  {
   "cell_type": "markdown",
   "id": "31fe5de7-e3f5-4d9d-800e-df0ef7699c3f",
   "metadata": {},
   "source": []
  },
  {
   "cell_type": "code",
   "execution_count": null,
   "id": "1248365c-1cb1-45b1-8f34-5f139c776487",
   "metadata": {},
   "outputs": [],
   "source": [
    "\n"
   ]
  },
  {
   "cell_type": "code",
   "execution_count": null,
   "id": "62aa5303-c185-4ac6-ac8b-a60e05e14ad1",
   "metadata": {},
   "outputs": [],
   "source": []
  }
 ],
 "metadata": {
  "kernelspec": {
   "display_name": "Python 3 (ipykernel)",
   "language": "python",
   "name": "python3"
  },
  "language_info": {
   "codemirror_mode": {
    "name": "ipython",
    "version": 3
   },
   "file_extension": ".py",
   "mimetype": "text/x-python",
   "name": "python",
   "nbconvert_exporter": "python",
   "pygments_lexer": "ipython3",
   "version": "3.9.12"
  }
 },
 "nbformat": 4,
 "nbformat_minor": 5
}
